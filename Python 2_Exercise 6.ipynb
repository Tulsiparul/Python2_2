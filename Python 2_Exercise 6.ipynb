{
 "cells": [
  {
   "cell_type": "code",
   "execution_count": 1,
   "id": "0e421772",
   "metadata": {},
   "outputs": [
    {
     "name": "stdout",
     "output_type": "stream",
     "text": [
      "8\n"
     ]
    }
   ],
   "source": [
    "####Compose the Addition \n",
    "print(5+3)"
   ]
  },
  {
   "cell_type": "code",
   "execution_count": 3,
   "id": "1c0ff15a",
   "metadata": {},
   "outputs": [
    {
     "name": "stdout",
     "output_type": "stream",
     "text": [
      "8\n"
     ]
    }
   ],
   "source": [
    "####Compose the Substraction\n",
    "print(11-3)"
   ]
  },
  {
   "cell_type": "code",
   "execution_count": 4,
   "id": "4e7b3e26",
   "metadata": {},
   "outputs": [
    {
     "name": "stdout",
     "output_type": "stream",
     "text": [
      "8\n"
     ]
    }
   ],
   "source": [
    "####Compose the Multiplication\n",
    "print(4*2)"
   ]
  },
  {
   "cell_type": "code",
   "execution_count": 7,
   "id": "6afda4b2",
   "metadata": {},
   "outputs": [
    {
     "name": "stdout",
     "output_type": "stream",
     "text": [
      "8.0\n"
     ]
    }
   ],
   "source": [
    "####Compose the Division\n",
    "print(16/2)"
   ]
  },
  {
   "cell_type": "code",
   "execution_count": null,
   "id": "26ae41a3",
   "metadata": {},
   "outputs": [],
   "source": []
  }
 ],
 "metadata": {
  "kernelspec": {
   "display_name": "Python 3",
   "language": "python",
   "name": "python3"
  },
  "language_info": {
   "codemirror_mode": {
    "name": "ipython",
    "version": 3
   },
   "file_extension": ".py",
   "mimetype": "text/x-python",
   "name": "python",
   "nbconvert_exporter": "python",
   "pygments_lexer": "ipython3",
   "version": "3.8.8"
  }
 },
 "nbformat": 4,
 "nbformat_minor": 5
}
